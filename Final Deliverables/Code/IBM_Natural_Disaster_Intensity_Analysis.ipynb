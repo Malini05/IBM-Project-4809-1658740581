{
  "cells": [
    {
      "cell_type": "markdown",
      "metadata": {
        "id": "ZPsBtMWVaWQI"
      },
      "source": [
        "# AI based Natural disaster analysis"
      ]
    },
    {
      "cell_type": "markdown",
      "metadata": {
        "id": "_xa9Xsm7aWQN"
      },
      "source": [
        "### Importing Neccessary Libraries"
      ]
    },
    {
      "cell_type": "code",
      "execution_count": 9,
      "metadata": {
        "id": "e2miQtOeaWQO"
      },
      "outputs": [],
      "source": [
        "import numpy as np#used for numerical analysis\n",
        "import tensorflow #open source used for both ML and DL for computation\n",
        "from tensorflow.keras.models import Sequential #it is a plain stack of layers\n",
        "from tensorflow.keras import layers #A layer consists of a tensor-in tensor-out computation function\n",
        "#Dense layer is the regular deeply connected neural network layer\n",
        "from tensorflow.keras.layers import Dense,Flatten\n",
        "#Faltten-used fot flattening the input or change the dimension\n",
        "from tensorflow.keras.layers import Conv2D,MaxPooling2D #Convolutional layer\n",
        "#MaxPooling2D-for downsampling the image\n",
        "from keras.preprocessing.image import ImageDataGenerator\n"
      ]
    },
    {
      "cell_type": "code",
      "execution_count": null,
      "metadata": {
        "id": "FChMToPGaWQQ",
        "outputId": "9e65d5a0-ef29-45a6-c84b-6dab5acfc8c9"
      },
      "outputs": [
        {
          "data": {
            "text/plain": [
              "'2.8.0'"
            ]
          },
          "execution_count": 5,
          "metadata": {},
          "output_type": "execute_result"
        }
      ],
      "source": [
        "tensorflow.__version__"
      ]
    },
    {
      "cell_type": "code",
      "execution_count": null,
      "metadata": {
        "id": "XuP__lpLaWQR",
        "outputId": "48171d4a-0a38-44d5-ca5f-8bce5f278d1d"
      },
      "outputs": [
        {
          "data": {
            "text/plain": [
              "'2.8.0'"
            ]
          },
          "execution_count": 6,
          "metadata": {},
          "output_type": "execute_result"
        }
      ],
      "source": [
        "tensorflow.keras.__version__"
      ]
    },
    {
      "cell_type": "code",
      "execution_count": null,
      "metadata": {
        "id": "hL1nqvDeaWQR"
      },
      "outputs": [],
      "source": []
    },
    {
      "cell_type": "markdown",
      "metadata": {
        "id": "ZylFd-7YaWQS"
      },
      "source": [
        "### Image Data Augmentation"
      ]
    },
    {
      "cell_type": "code",
      "execution_count": null,
      "metadata": {
        "id": "eZnHFGu9aWQS"
      },
      "outputs": [],
      "source": [
        "#setting parameter for Image Data agumentation to the training data\n",
        "train_datagen = ImageDataGenerator(rescale=1./255,shear_range=0.2,zoom_range=0.2,horizontal_flip=True)\n",
        "#Image Data agumentation to the testing data\n",
        "test_datagen=ImageDataGenerator(rescale=1./255)"
      ]
    },
    {
      "cell_type": "code",
      "execution_count": null,
      "metadata": {
        "id": "Sijdbb8WaWQT"
      },
      "outputs": [],
      "source": []
    },
    {
      "cell_type": "markdown",
      "metadata": {
        "id": "pwD6tcz0aWQU"
      },
      "source": [
        "### Loading our data and performing data augmentation"
      ]
    },
    {
      "cell_type": "code",
      "execution_count": null,
      "metadata": {
        "id": "AhxUvcpqaWQU",
        "outputId": "85020928-5871-468c-e91f-1fd894d5088e"
      },
      "outputs": [
        {
          "name": "stdout",
          "output_type": "stream",
          "text": [
            "Found 198 images belonging to 4 classes.\n",
            "Found 198 images belonging to 4 classes.\n"
          ]
        }
      ],
      "source": [
        "#performing data agumentation to train data\n",
        "x_train = train_datagen.flow_from_directory(r'C:\\Users\\hp\\Desktop\\IBM\\dataset\\test_set',target_size=(64, 64),batch_size=5,\n",
        "                                            color_mode='rgb',class_mode='categorical')\n",
        "#performing data agumentation to test data\n",
        "x_test = test_datagen.flow_from_directory(r'C:\\Users\\hp\\Desktop\\IBM\\dataset\\test_set',target_size=(64, 64),batch_size=5,\n",
        "                                            color_mode='rgb',class_mode='categorical') "
      ]
    },
    {
      "cell_type": "code",
      "execution_count": null,
      "metadata": {
        "id": "ld4T85HEaWQV",
        "outputId": "bb7b4496-b8fb-4c8d-de79-09dc8669cdda"
      },
      "outputs": [
        {
          "name": "stdout",
          "output_type": "stream",
          "text": [
            "{'Cyclone': 0, 'Earthquake': 1, 'Flood': 2, 'Wildfire': 3}\n"
          ]
        }
      ],
      "source": [
        "print(x_train.class_indices)#checking the number of classes"
      ]
    },
    {
      "cell_type": "code",
      "execution_count": null,
      "metadata": {
        "id": "S-dRHI7qaWQW",
        "outputId": "ca902a3a-f8e2-4d8a-bf48-d2d7cb6650fb"
      },
      "outputs": [
        {
          "name": "stdout",
          "output_type": "stream",
          "text": [
            "{'Cyclone': 0, 'Earthquake': 1, 'Flood': 2, 'Wildfire': 3}\n"
          ]
        }
      ],
      "source": [
        "print(x_test.class_indices)#checking the number of classes"
      ]
    },
    {
      "cell_type": "code",
      "execution_count": null,
      "metadata": {
        "id": "5VJs17TOaWQW",
        "outputId": "85a2da75-9adc-4d72-ac23-b75a1319f024"
      },
      "outputs": [
        {
          "data": {
            "text/plain": [
              "Counter({0: 64, 1: 29, 2: 61, 3: 44})"
            ]
          },
          "execution_count": 11,
          "metadata": {},
          "output_type": "execute_result"
        }
      ],
      "source": [
        "from collections import Counter as c\n",
        "c(x_train .labels)"
      ]
    },
    {
      "cell_type": "markdown",
      "metadata": {
        "id": "S3Mt6hr-aWQX"
      },
      "source": [
        "### Creating the model"
      ]
    },
    {
      "cell_type": "code",
      "execution_count": null,
      "metadata": {
        "id": "Pn3IMVY5aWQX"
      },
      "outputs": [],
      "source": [
        "# Initializing the CNN\n",
        "classifier = Sequential()\n",
        "\n",
        "# First convolution layer and poolingo\n",
        "classifier.add(Conv2D(32, (3, 3), input_shape=(64, 64, 3), activation='relu'))\n",
        "classifier.add(MaxPooling2D(pool_size=(2, 2)))\n",
        "classifier.add(Conv2D(32, (3, 3), input_shape=(64, 64, 3), activation='relu'))\n",
        "# Second convolution layer and pooling\n",
        "classifier.add(Conv2D(32, (3, 3), activation='relu'))\n",
        "# input_shape is going to be the pooled feature maps from the previous convolution layer\n",
        "classifier.add(MaxPooling2D(pool_size=(2, 2)))\n",
        "classifier.add(Conv2D(32, (3, 3), input_shape=(64, 64, 3), activation='relu'))\n",
        "\n",
        "# Flattening the layers\n",
        "classifier.add(Flatten())\n",
        "\n",
        "# Adding a fully connected layer\n",
        "classifier.add(Dense(units=128, activation='relu'))\n",
        "classifier.add(Dense(units=4, activation='softmax')) # softmax for more than 2\n",
        "\n"
      ]
    },
    {
      "cell_type": "code",
      "execution_count": null,
      "metadata": {
        "id": "vSPFfIr6aWQX",
        "outputId": "5e9ec552-8849-4837-c9fa-b9e390938ac6"
      },
      "outputs": [
        {
          "name": "stdout",
          "output_type": "stream",
          "text": [
            "Model: \"sequential\"\n",
            "_________________________________________________________________\n",
            " Layer (type)                Output Shape              Param #   \n",
            "=================================================================\n",
            " conv2d (Conv2D)             (None, 62, 62, 32)        896       \n",
            "                                                                 \n",
            " max_pooling2d (MaxPooling2D  (None, 31, 31, 32)       0         \n",
            " )                                                               \n",
            "                                                                 \n",
            " conv2d_1 (Conv2D)           (None, 29, 29, 32)        9248      \n",
            "                                                                 \n",
            " conv2d_2 (Conv2D)           (None, 27, 27, 32)        9248      \n",
            "                                                                 \n",
            " max_pooling2d_1 (MaxPooling  (None, 13, 13, 32)       0         \n",
            " 2D)                                                             \n",
            "                                                                 \n",
            " conv2d_3 (Conv2D)           (None, 11, 11, 32)        9248      \n",
            "                                                                 \n",
            " flatten (Flatten)           (None, 3872)              0         \n",
            "                                                                 \n",
            " dense (Dense)               (None, 128)               495744    \n",
            "                                                                 \n",
            " dense_1 (Dense)             (None, 4)                 516       \n",
            "                                                                 \n",
            "=================================================================\n",
            "Total params: 524,900\n",
            "Trainable params: 524,900\n",
            "Non-trainable params: 0\n",
            "_________________________________________________________________\n"
          ]
        }
      ],
      "source": [
        "classifier.summary()#summary of our model"
      ]
    },
    {
      "cell_type": "markdown",
      "metadata": {
        "id": "AceqWxa7aWQY"
      },
      "source": [
        "### Compiling the model"
      ]
    },
    {
      "cell_type": "code",
      "execution_count": null,
      "metadata": {
        "id": "_ld5WfjaaWQY"
      },
      "outputs": [],
      "source": [
        "# Compiling the CNN\n",
        "# categorical_crossentropy for more than 2\n",
        "classifier.compile(optimizer='adam', loss='categorical_crossentropy', metrics=['accuracy']) "
      ]
    },
    {
      "cell_type": "markdown",
      "metadata": {
        "id": "21AaUnd7aWQY"
      },
      "source": [
        "## Fitting the model"
      ]
    },
    {
      "cell_type": "code",
      "execution_count": null,
      "metadata": {
        "scrolled": true,
        "id": "3Z5UemrHaWQZ",
        "outputId": "d69f7bec-1d94-4c6b-d7c2-6e587ec77f25"
      },
      "outputs": [
        {
          "name": "stdout",
          "output_type": "stream",
          "text": [
            "Epoch 1/20\n"
          ]
        },
        {
          "name": "stderr",
          "output_type": "stream",
          "text": [
            "C:\\Users\\hp\\Anaconda3\\lib\\site-packages\\ipykernel_launcher.py:3: UserWarning: `Model.fit_generator` is deprecated and will be removed in a future version. Please use `Model.fit`, which supports generators.\n",
            "  This is separate from the ipykernel package so we can avoid doing imports until\n"
          ]
        },
        {
          "name": "stdout",
          "output_type": "stream",
          "text": [
            "40/40 [==============================] - 17s 440ms/step - loss: 1.3599 - accuracy: 0.3434 - val_loss: 1.3235 - val_accuracy: 0.3081\n",
            "Epoch 2/20\n",
            "40/40 [==============================] - 17s 421ms/step - loss: 1.2764 - accuracy: 0.3485 - val_loss: 1.3702 - val_accuracy: 0.3384\n",
            "Epoch 3/20\n",
            "40/40 [==============================] - 18s 448ms/step - loss: 1.0652 - accuracy: 0.5808 - val_loss: 0.7824 - val_accuracy: 0.6970\n",
            "Epoch 4/20\n",
            "40/40 [==============================] - 20s 514ms/step - loss: 0.9344 - accuracy: 0.6566 - val_loss: 0.7065 - val_accuracy: 0.7576\n",
            "Epoch 5/20\n",
            "40/40 [==============================] - 19s 468ms/step - loss: 0.7658 - accuracy: 0.6768 - val_loss: 1.0319 - val_accuracy: 0.6515\n",
            "Epoch 6/20\n",
            "40/40 [==============================] - 18s 447ms/step - loss: 0.7263 - accuracy: 0.7222 - val_loss: 0.6478 - val_accuracy: 0.7727\n",
            "Epoch 7/20\n",
            "40/40 [==============================] - 16s 397ms/step - loss: 0.6744 - accuracy: 0.7525 - val_loss: 0.6544 - val_accuracy: 0.7677\n",
            "Epoch 8/20\n",
            "40/40 [==============================] - 21s 524ms/step - loss: 0.5660 - accuracy: 0.7677 - val_loss: 1.1223 - val_accuracy: 0.6263\n",
            "Epoch 9/20\n",
            "40/40 [==============================] - 24s 601ms/step - loss: 0.8633 - accuracy: 0.6667 - val_loss: 0.8999 - val_accuracy: 0.6010\n",
            "Epoch 10/20\n",
            "40/40 [==============================] - 18s 469ms/step - loss: 0.6305 - accuracy: 0.7929 - val_loss: 0.5919 - val_accuracy: 0.8030\n",
            "Epoch 11/20\n",
            "40/40 [==============================] - 22s 548ms/step - loss: 0.6084 - accuracy: 0.7677 - val_loss: 0.4047 - val_accuracy: 0.8434\n",
            "Epoch 12/20\n",
            "40/40 [==============================] - 19s 474ms/step - loss: 0.5069 - accuracy: 0.7980 - val_loss: 1.0144 - val_accuracy: 0.7424\n",
            "Epoch 13/20\n",
            "40/40 [==============================] - 18s 456ms/step - loss: 0.4486 - accuracy: 0.8333 - val_loss: 0.4645 - val_accuracy: 0.8384\n",
            "Epoch 14/20\n",
            "40/40 [==============================] - 18s 461ms/step - loss: 0.4557 - accuracy: 0.8434 - val_loss: 0.5087 - val_accuracy: 0.7879\n",
            "Epoch 15/20\n",
            "40/40 [==============================] - 16s 405ms/step - loss: 0.3743 - accuracy: 0.8434 - val_loss: 0.6143 - val_accuracy: 0.7778\n",
            "Epoch 16/20\n",
            "40/40 [==============================] - 16s 406ms/step - loss: 0.4161 - accuracy: 0.8535 - val_loss: 0.8941 - val_accuracy: 0.6717\n",
            "Epoch 17/20\n",
            "40/40 [==============================] - 18s 457ms/step - loss: 0.3945 - accuracy: 0.8636 - val_loss: 0.4245 - val_accuracy: 0.8232\n",
            "Epoch 18/20\n",
            "40/40 [==============================] - 19s 465ms/step - loss: 0.3385 - accuracy: 0.8636 - val_loss: 0.7405 - val_accuracy: 0.7071\n",
            "Epoch 19/20\n",
            "40/40 [==============================] - 20s 507ms/step - loss: 0.3422 - accuracy: 0.8838 - val_loss: 0.3495 - val_accuracy: 0.8687\n",
            "Epoch 20/20\n",
            "40/40 [==============================] - 21s 543ms/step - loss: 0.3131 - accuracy: 0.8939 - val_loss: 0.1926 - val_accuracy: 0.9242\n"
          ]
        },
        {
          "data": {
            "text/plain": [
              "<keras.callbacks.History at 0x2133fde0e10>"
            ]
          },
          "execution_count": 16,
          "metadata": {},
          "output_type": "execute_result"
        }
      ],
      "source": [
        "classifier.fit_generator(\n",
        "        generator=x_train,steps_per_epoch = len(x_train),\n",
        "        epochs=20, validation_data=x_test,validation_steps = len(x_test))# No of images in test set"
      ]
    },
    {
      "cell_type": "markdown",
      "metadata": {
        "id": "vY80JQ3baWQZ"
      },
      "source": [
        "### Saving our model"
      ]
    },
    {
      "cell_type": "code",
      "execution_count": null,
      "metadata": {
        "id": "8IC1eHMuaWQZ"
      },
      "outputs": [],
      "source": [
        "# Save the model\n",
        "classifier.save('disaster.h5')"
      ]
    },
    {
      "cell_type": "code",
      "execution_count": null,
      "metadata": {
        "id": "VML7FCaLaWQa"
      },
      "outputs": [],
      "source": [
        "model_json = classifier.to_json()\n",
        "with open(\"model-bw.json\", \"w\") as json_file:\n",
        "    json_file.write(model_json)"
      ]
    },
    {
      "cell_type": "code",
      "execution_count": null,
      "metadata": {
        "id": "A8cRy00GaWQa"
      },
      "outputs": [],
      "source": []
    },
    {
      "cell_type": "markdown",
      "metadata": {
        "id": "geA6vAUUaWQa"
      },
      "source": [
        "### Predicting our results"
      ]
    },
    {
      "cell_type": "code",
      "execution_count": 17,
      "metadata": {
        "id": "l-ApqMWOaWQa"
      },
      "outputs": [],
      "source": [
        "from tensorflow.keras.models import load_model\n",
        "from tensorflow.keras.utils import load_img,img_to_array\n",
        "model = load_model(\"/content/disaster.h5\") #loading the model for testing"
      ]
    },
    {
      "cell_type": "code",
      "execution_count": 18,
      "metadata": {
        "id": "Z_ZVPc2KaWQb",
        "outputId": "deafe8ea-f350-47a3-cd5d-92a5c5b01b76",
        "colab": {
          "base_uri": "https://localhost:8080/"
        }
      },
      "outputs": [
        {
          "output_type": "stream",
          "name": "stdout",
          "text": [
            "1/1 [==============================] - 0s 394ms/step\n"
          ]
        },
        {
          "output_type": "execute_result",
          "data": {
            "text/plain": [
              "array([1])"
            ]
          },
          "metadata": {},
          "execution_count": 18
        }
      ],
      "source": [
        "img = load_img(r\"/content/e2.jpg\",grayscale=False,target_size= (64,64))#loading of the image\n",
        "x = img_to_array(img)#image to array\n",
        "x = np.expand_dims(x,axis = 0)#changing the shape\n",
        "#pred = classifier.predict_classes(x)#predicting the classes\n",
        "predict=model.predict(x)\n",
        "classes_x=np.argmax(predict,axis=1)\n",
        "classes_x"
      ]
    },
    {
      "cell_type": "code",
      "source": [],
      "metadata": {
        "id": "XOFQnsCQcyB0"
      },
      "execution_count": null,
      "outputs": []
    },
    {
      "cell_type": "code",
      "execution_count": 19,
      "metadata": {
        "id": "FO2V0xN0aWQb",
        "outputId": "df68016d-9f90-489d-d800-d7277391058a",
        "colab": {
          "base_uri": "https://localhost:8080/",
          "height": 35
        }
      },
      "outputs": [
        {
          "output_type": "execute_result",
          "data": {
            "text/plain": [
              "'Earthquake'"
            ],
            "application/vnd.google.colaboratory.intrinsic+json": {
              "type": "string"
            }
          },
          "metadata": {},
          "execution_count": 19
        }
      ],
      "source": [
        "index=['Cyclone','Earthquake','Flood','Wildfire']\n",
        "result=str(index[classes_x[0]])\n",
        "result"
      ]
    },
    {
      "cell_type": "code",
      "execution_count": null,
      "metadata": {
        "id": "rVJeUaWvaWQc"
      },
      "outputs": [],
      "source": []
    }
  ],
  "metadata": {
    "kernelspec": {
      "display_name": "Python 3",
      "language": "python",
      "name": "python3"
    },
    "language_info": {
      "codemirror_mode": {
        "name": "ipython",
        "version": 3
      },
      "file_extension": ".py",
      "mimetype": "text/x-python",
      "name": "python",
      "nbconvert_exporter": "python",
      "pygments_lexer": "ipython3",
      "version": "3.7.3"
    },
    "colab": {
      "provenance": []
    }
  },
  "nbformat": 4,
  "nbformat_minor": 0
}